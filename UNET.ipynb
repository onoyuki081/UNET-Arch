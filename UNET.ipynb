{
  "nbformat": 4,
  "nbformat_minor": 0,
  "metadata": {
    "colab": {
      "name": "UNET.ipynb",
      "provenance": []
    },
    "kernelspec": {
      "name": "python3",
      "display_name": "Python 3"
    },
    "language_info": {
      "name": "python"
    }
  },
  "cells": [
    {
      "cell_type": "code",
      "execution_count": null,
      "metadata": {
        "id": "1VuCGqyn6mP0"
      },
      "outputs": [],
      "source": [
        "import tensorflow as tf"
      ]
    },
    {
      "cell_type": "markdown",
      "source": [
        "##### Encoder"
      ],
      "metadata": {
        "id": "D3jX0Hur6tSF"
      }
    },
    {
      "cell_type": "code",
      "source": [
        "# input has to be a tensor, filter represents num of filters, \n",
        "# and k_size is for kernel size\n",
        "def block(input, filter, k_size = (3, 3)):\n",
        "  b = input\n",
        "  for i in range(2):\n",
        "    b = tf.keras.layers.Conv2D(filter = filter, \n",
        "                               kernel_size = k_size)(b)\n",
        "    b = tf.keras.layers.Activation('relu')(b)\n",
        "  return b"
      ],
      "metadata": {
        "id": "p6zx6yzN6voJ"
      },
      "execution_count": null,
      "outputs": []
    },
    {
      "cell_type": "code",
      "source": [
        "# p_size is for max pooling and d_rate means dropout rate\n",
        "def encoder_block(input, filter, p_size = (2, 2), d_rate = 0.3):\n",
        "  f = block(input, filter = filter)\n",
        "  p = tf.keras.layers.MaxPooling2D(p_size)(f)\n",
        "  p = tf.keras.layers.Dropout(d_rate)(p)\n",
        "  return f, p"
      ],
      "metadata": {
        "id": "aXrE0-p361eq"
      },
      "execution_count": null,
      "outputs": []
    },
    {
      "cell_type": "code",
      "source": [
        "# Stack encoder_block to construct encoding part\n",
        "def encoder(input):\n",
        "  f1, p1 = encoder_block(input, 64)\n",
        "  f2, p2 = encoder_block(p1, 128)\n",
        "  f3, p3 = encoder_block(p2, 256)\n",
        "  f4, p4 = encoder_block(p3, 512)\n",
        "  return p4, (f1, f2, f3, f4)"
      ],
      "metadata": {
        "id": "BAn4bPSY7lS2"
      },
      "execution_count": null,
      "outputs": []
    },
    {
      "cell_type": "markdown",
      "source": [
        "###### Bottleneck"
      ],
      "metadata": {
        "id": "Jige2h838WTw"
      }
    },
    {
      "cell_type": "code",
      "source": [
        "def bottleneck(input):\n",
        "  return block(input, filter = 1024)"
      ],
      "metadata": {
        "id": "yY8zkOwb8ZiZ"
      },
      "execution_count": null,
      "outputs": []
    },
    {
      "cell_type": "markdown",
      "source": [
        "###### Decoder"
      ],
      "metadata": {
        "id": "gdTA8EUQ8pGf"
      }
    },
    {
      "cell_type": "code",
      "source": [
        "# e_output is an output from each layer of encoder\n",
        "def decoder_block(input, e_output, filter, k_size = (3 , 3), \n",
        "                  strides = (2, 2), d_rate = 0.3):\n",
        "  # h is for head\n",
        "  h = tf.keras.layers.Conv2DTranpose(filter, k_size = k_size, \n",
        "                                     strides = strides, padding = 'same')(input)\n",
        "  # b is for output block\n",
        "  b = tf.keras.layers.concatenate([h, e_output])\n",
        "  b = tf.keras.layers.Dropout(d_rate)(b)\n",
        "  b = block(b, filter)\n",
        "  return b"
      ],
      "metadata": {
        "id": "233l_d2Q8rZm"
      },
      "execution_count": 12,
      "outputs": []
    },
    {
      "cell_type": "code",
      "source": [
        "def decoder(input, e_output):\n",
        "  f1, f2, f3, f4 = e_output\n",
        "  c4 = decoder_block(input, f4, n_filters = 512)\n",
        "  c3 = decoder_block(c4, f3, n_filters = 256)\n",
        "  c2 = decoder_block(c3, f2, n_filters = 128)\n",
        "  c1 = decoder_block(c2, f1, n_filters = 64)\n",
        "  output = tf.keras.layers.COnv2D(3, (1, 1), activation = 'softmax')(c1)"
      ],
      "metadata": {
        "id": "pgP6knVT-k7T"
      },
      "execution_count": 13,
      "outputs": []
    },
    {
      "cell_type": "markdown",
      "source": [
        "###### Model"
      ],
      "metadata": {
        "id": "gwQQ-qDxBWju"
      }
    },
    {
      "cell_type": "code",
      "source": [
        "def UNET():\n",
        "  input = tf.keras.layes.Input(shape = (128, 128, 3))\n",
        "  encoder_output, conv = encoder(input)\n",
        "  Bottleneck = bottleneck(encoder_output)\n",
        "  output = decoder(Bottleneck, conv)\n",
        "  unet = tf.keras.Model(inputs = input, outputs = output)\n",
        "  return unet"
      ],
      "metadata": {
        "id": "1H2L1NF8BaRv"
      },
      "execution_count": 14,
      "outputs": []
    }
  ]
}